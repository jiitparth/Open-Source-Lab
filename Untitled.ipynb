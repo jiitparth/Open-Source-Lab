{
 "cells": [
  {
   "cell_type": "code",
   "execution_count": 9,
   "metadata": {},
   "outputs": [
    {
     "name": "stdout",
     "output_type": "stream",
     "text": [
      "Bubble sorted arr\n",
      "1 2 3 4 5 \n",
      "Insertion sorted arr\n",
      "1 3 4 2 1 \n",
      "Selection sorted arr\n",
      "1 2 3 4 5 "
     ]
    }
   ],
   "source": [
    "def bubbleSort(arr):\n",
    "    n=len(arr)\n",
    "    for i in range(n):\n",
    "        swapped=False\n",
    "        for j in range (n-i-1):\n",
    "                if arr[j]> arr[j+1]:\n",
    "                    arr[j],arr[j+1] =arr[j+1],arr[j]\n",
    "                    swapped=True\n",
    "        if swapped==False:\n",
    "            break\n",
    "def insertionSort(arr):\n",
    "    for i in range (1,len(arr)):\n",
    "        key=arr[i]\n",
    "        j=i-1\n",
    "        while j>=0 and key<arr[j]:\n",
    "            arr[j+1]=arr[j]\n",
    "            j-=1\n",
    "        arr[j+1]=key\n",
    "        \n",
    "def selectionSort(arr):\n",
    "    for i in range(len(arr)):\n",
    "        min_ind=i\n",
    "        for j in range(i+1,len(arr)):\n",
    "            if arr[min_ind]>arr[j]:\n",
    "                min_ind=j\n",
    "        arr[i],arr[min_ind]=arr[min_ind],arr[i]\n",
    "arr=[5,3,4,2,1]\n",
    "bubbleSort(arr)\n",
    "print(\"Bubble sorted arr\")\n",
    "for i in range(len(arr)):\n",
    "    print(arr[i],end=\" \")\n",
    "arr=[5,3,4,2,1]\n",
    "insertionSort(arr)\n",
    "print(\"\\nInsertion sorted arr\")\n",
    "for i in range(len(arr)):\n",
    "    print(arr[i],end=\" \")\n",
    "    arr=[5,3,4,2,1]\n",
    "insertionSort(arr)\n",
    "print(\"\\nSelection sorted arr\")\n",
    "for i in range(len(arr)):\n",
    "    print(arr[i],end=\" \")"
   ]
  },
  {
   "cell_type": "code",
   "execution_count": null,
   "metadata": {},
   "outputs": [],
   "source": []
  }
 ],
 "metadata": {
  "kernelspec": {
   "display_name": "Python 3",
   "language": "python",
   "name": "python3"
  },
  "language_info": {
   "codemirror_mode": {
    "name": "ipython",
    "version": 3
   },
   "file_extension": ".py",
   "mimetype": "text/x-python",
   "name": "python",
   "nbconvert_exporter": "python",
   "pygments_lexer": "ipython3",
   "version": "3.7.3"
  }
 },
 "nbformat": 4,
 "nbformat_minor": 2
}
